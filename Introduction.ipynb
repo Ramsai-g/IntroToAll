{
  "nbformat": 4,
  "nbformat_minor": 0,
  "metadata": {
    "colab": {
      "name": "Introduction",
      "provenance": [],
      "include_colab_link": true
    },
    "kernelspec": {
      "name": "python3",
      "display_name": "Python 3"
    }
  },
  "cells": [
    {
      "cell_type": "markdown",
      "metadata": {
        "id": "view-in-github",
        "colab_type": "text"
      },
      "source": [
        "<a href=\"https://colab.research.google.com/github/Ramsai-g/IntroToAll/blob/master/Introduction.ipynb\" target=\"_parent\"><img src=\"https://colab.research.google.com/assets/colab-badge.svg\" alt=\"Open In Colab\"/></a>"
      ]
    },
    {
      "cell_type": "code",
      "metadata": {
        "id": "GZ4tA48LfAeq",
        "colab_type": "code",
        "colab": {
          "base_uri": "https://localhost:8080/",
          "height": 34
        },
        "outputId": "72cbe3d5-0e32-4c95-d792-097f90cbc702"
      },
      "source": [
        "print(\"Awensom Boij\")"
      ],
      "execution_count": 7,
      "outputs": [
        {
          "output_type": "stream",
          "text": [
            "Awensom Boij\n"
          ],
          "name": "stdout"
        }
      ]
    },
    {
      "cell_type": "code",
      "metadata": {
        "id": "r53Ig7jZfXIJ",
        "colab_type": "code",
        "colab": {
          "base_uri": "https://localhost:8080/",
          "height": 34
        },
        "outputId": "b33fee0e-bda9-4818-e892-fd35cb21241d"
      },
      "source": [
        "Good_boij_like_nancy_pants = 1000000000\n",
        "print(Good_boij_like_nancy_pants)"
      ],
      "execution_count": 12,
      "outputs": [
        {
          "output_type": "stream",
          "text": [
            "1000000000\n"
          ],
          "name": "stdout"
        }
      ]
    },
    {
      "cell_type": "code",
      "metadata": {
        "id": "tYvFM8lDf535",
        "colab_type": "code",
        "colab": {
          "base_uri": "https://localhost:8080/",
          "height": 34
        },
        "outputId": "2d46a673-bccf-434e-e19e-2a4396c15dd3"
      },
      "source": [
        "Awensom_underscore= \"Fart NUgget\"\n",
        "print(Awensom_underscore)"
      ],
      "execution_count": 9,
      "outputs": [
        {
          "output_type": "stream",
          "text": [
            "Fart NUgget\n"
          ],
          "name": "stdout"
        }
      ]
    },
    {
      "cell_type": "code",
      "metadata": {
        "id": "zuR2nY93gIj4",
        "colab_type": "code",
        "colab": {}
      },
      "source": [
        "print(Good_boij_like_nancy_pants , Awensom_underscore)"
      ],
      "execution_count": 0,
      "outputs": []
    },
    {
      "cell_type": "code",
      "metadata": {
        "id": "mJnkDeyDgoWO",
        "colab_type": "code",
        "colab": {
          "base_uri": "https://localhost:8080/",
          "height": 34
        },
        "outputId": "9c019b33-30cc-4389-f637-3fa31368e6d3"
      },
      "source": [
        "print(\"Yo what is up everyone it's tokineser and welcome back to another video, in this video we are gonna be playing some skyblock\")"
      ],
      "execution_count": 13,
      "outputs": [
        {
          "output_type": "stream",
          "text": [
            "Yo what is up everyone it's tokineser and welcome back to another video, in this video we are gonna be playing some skyblock\n"
          ],
          "name": "stdout"
        }
      ]
    },
    {
      "cell_type": "code",
      "metadata": {
        "id": "RgSM-gtmg6eQ",
        "colab_type": "code",
        "colab": {
          "base_uri": "https://localhost:8080/",
          "height": 34
        },
        "outputId": "0cb314ff-39e0-4a17-bc9d-ee563b306908"
      },
      "source": [
        "chicken= False\n",
        "print(chicken)"
      ],
      "execution_count": 15,
      "outputs": [
        {
          "output_type": "stream",
          "text": [
            "False\n"
          ],
          "name": "stdout"
        }
      ]
    },
    {
      "cell_type": "code",
      "metadata": {
        "id": "lcG2Pc9ShDUH",
        "colab_type": "code",
        "colab": {
          "base_uri": "https://localhost:8080/",
          "height": 34
        },
        "outputId": "df2d6977-6ac5-41ae-d61d-47d77ce6ede7"
      },
      "source": [
        "\n",
        "name= None\n",
        "print(name)"
      ],
      "execution_count": 26,
      "outputs": [
        {
          "output_type": "stream",
          "text": [
            "None\n"
          ],
          "name": "stdout"
        }
      ]
    },
    {
      "cell_type": "code",
      "metadata": {
        "id": "k8IDboyLhwAy",
        "colab_type": "code",
        "colab": {
          "base_uri": "https://localhost:8080/",
          "height": 34
        },
        "outputId": "9fd163ec-9bf3-48b9-d168-92e535432a36"
      },
      "source": [
        "Poop= \"1.99% 2.98%\"\n",
        "print(Poop)"
      ],
      "execution_count": 30,
      "outputs": [
        {
          "output_type": "stream",
          "text": [
            "1.99% 2.98%\n"
          ],
          "name": "stdout"
        }
      ]
    }
  ]
}